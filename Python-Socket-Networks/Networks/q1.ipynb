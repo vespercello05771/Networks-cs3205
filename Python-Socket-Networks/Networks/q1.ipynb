{
 "cells": [
  {
   "cell_type": "code",
   "execution_count": 1,
   "metadata": {},
   "outputs": [
    {
     "name": "stdout",
     "output_type": "stream",
     "text": [
      "UDP server up and listening\n"
     ]
    },
    {
     "ename": "KeyboardInterrupt",
     "evalue": "",
     "output_type": "error",
     "traceback": [
      "\u001b[0;31m---------------------------------------------------------------------------\u001b[0m",
      "\u001b[0;31mKeyboardInterrupt\u001b[0m                         Traceback (most recent call last)",
      "Cell \u001b[0;32mIn[1], line 21\u001b[0m\n\u001b[1;32m     19\u001b[0m \u001b[39m# Listen for incoming datagrams\u001b[39;00m\n\u001b[1;32m     20\u001b[0m \u001b[39mwhile\u001b[39;00m (\u001b[39mTrue\u001b[39;00m):\n\u001b[0;32m---> 21\u001b[0m     bytesAddressPair \u001b[39m=\u001b[39m UDPServerSocket\u001b[39m.\u001b[39;49mrecvfrom(bufferSize)\n\u001b[1;32m     22\u001b[0m     message \u001b[39m=\u001b[39m bytesAddressPair[\u001b[39m0\u001b[39m]\u001b[39m.\u001b[39mdecode()\n\u001b[1;32m     23\u001b[0m     address \u001b[39m=\u001b[39m bytesAddressPair[\u001b[39m1\u001b[39m]\n",
      "\u001b[0;31mKeyboardInterrupt\u001b[0m: "
     ]
    }
   ],
   "source": [
    "\n",
    "\n",
    "#https://pythontic.com/modules/socket/udp-client-server-example\n",
    "import socket\n",
    "\n",
    "localIP     = \"127.0.0.1\"\n",
    "localPort   = 20001\n",
    "bufferSize  = 1024\n",
    "\n",
    "msgFromServer       = \"Hello UDP Client\"\n",
    "bytesToSend         = str.encode(msgFromServer)\n",
    "\n",
    "# Create a datagram socket\n",
    "UDPServerSocket = socket.socket(family=socket.AF_INET, type=socket.SOCK_DGRAM)\n",
    "\n",
    "# Bind to address and ip\n",
    "UDPServerSocket.bind((localIP, localPort))\n",
    "\n",
    "print(\"UDP server up and listening\")\n",
    "\n",
    "# Listen for incoming datagrams\n",
    "while (True):\n",
    "    bytesAddressPair = UDPServerSocket.recvfrom(bufferSize)\n",
    "    message = bytesAddressPair[0].decode()\n",
    "    address = bytesAddressPair[1]\n",
    "    clientMsg = \"Message from Client: {}\".format(message)\n",
    "    clientIP  = \"Client IP Address: {}\".format(address)\n",
    "    \n",
    "    print(clientMsg)\n",
    "    print(clientIP)\n",
    "\n",
    "    # Sending a reply to client\n",
    "    UDPServerSocket.sendto(msgFromServer.encode(), address)\n",
    "\n",
    "help(print)"
   ]
  },
  {
   "cell_type": "code",
   "execution_count": null,
   "metadata": {},
   "outputs": [],
   "source": [
    "#https://pythontic.com/modules/socket/udp-client-server-example\n",
    "import socket\n",
    "\n",
    "msgFromClient       = \"Hello UDP Server\"\n",
    "bytesToSend         = str.encode(msgFromClient)\n",
    "serverAddressPort   = (\"127.0.0.1\", 20001)\n",
    "bufferSize          = 1024\n",
    "\n",
    "# Create a UDP socket at client side\n",
    "UDPClientSocket = socket.socket(family=socket.AF_INET, type=socket.SOCK_DGRAM)\n",
    "\n",
    "# Send to server using created UDP socket\n",
    "UDPClientSocket.sendto(bytesToSend, serverAddressPort)\n",
    "\n",
    "#Wait on recvfrom()\n",
    "msgFromServer = UDPClientSocket.recvfrom(bufferSize)\n",
    "\n",
    "#Wait completed\n",
    "msg = \"Message from Server: {}\".format(msgFromServer[0].decode())\n",
    "\n",
    "print(msg)"
   ]
  },
  {
   "cell_type": "code",
   "execution_count": 7,
   "metadata": {},
   "outputs": [
    {
     "name": "stdout",
     "output_type": "stream",
     "text": [
      "Help on built-in function format in module builtins:\n",
      "\n",
      "format(value, format_spec='', /)\n",
      "    Return value.__format__(format_spec)\n",
      "    \n",
      "    format_spec defaults to the empty string.\n",
      "    See the Format Specification Mini-Language section of help('FORMATTING') for\n",
      "    details.\n",
      "\n"
     ]
    }
   ],
   "source": [
    "UDPServerSocket.close()\n",
    "help(format)"
   ]
  }
 ],
 "metadata": {
  "kernelspec": {
   "display_name": "Python 3",
   "language": "python",
   "name": "python3"
  },
  "language_info": {
   "codemirror_mode": {
    "name": "ipython",
    "version": 3
   },
   "file_extension": ".py",
   "mimetype": "text/x-python",
   "name": "python",
   "nbconvert_exporter": "python",
   "pygments_lexer": "ipython3",
   "version": "3.10.6"
  },
  "orig_nbformat": 4,
  "vscode": {
   "interpreter": {
    "hash": "916dbcbb3f70747c44a77c7bcd40155683ae19c65e1c03b4aa3499c5328201f1"
   }
  }
 },
 "nbformat": 4,
 "nbformat_minor": 2
}
